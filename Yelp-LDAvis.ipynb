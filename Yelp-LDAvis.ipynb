{
 "cells": [
  {
   "cell_type": "markdown",
   "metadata": {},
   "source": [
    "# Coursera Data Mining Project - 1"
   ]
  },
  {
   "cell_type": "markdown",
   "metadata": {},
   "source": [
    "## Task 1:\n",
    "\n",
    "I have used LDA to discover topics in reviews from Yelp dataset. \n"
   ]
  },
  {
   "cell_type": "code",
   "execution_count": 1,
   "metadata": {
    "collapsed": false
   },
   "outputs": [
    {
     "name": "stdout",
     "output_type": "stream",
     "text": [
      "{\"votes\": {\"funny\": 0, \"useful\": 2, \"cool\": 1}, \"user_id\": \"Xqd0DzHaiyRqVH3WRG7hzg\", \"review_id\": \"15SdjuK7DmYqUAj6rjGowg\", \"stars\": 5, \"date\": \"2007-05-17\", \"text\": \"dr. goldberg offers everything i look for in a general practitioner.  he's nice and easy to talk to without being patronizing; he's always on time in seeing his patients; he's affiliated with a top-notch hospital (nyu) which my parents have explained to me is very important in case something happens and you need surgery; and you can get referrals to see specialists without having to see him first.  really, what more do you need?  i'm sitting here trying to think of any complaints i have about him, but i'm really drawing a blank.\", \"type\": \"review\", \"business_id\": \"vcNAWiLM4dR7D2nwwJ7nCA\"}\n",
      "\n",
      "{\"votes\": {\"funny\": 0, \"useful\": 2, \"cool\": 0}, \"user_id\": \"H1kH6QZV7Le4zqTRNxoZow\", \"review_id\": \"RF6UnRTtG7tWMcrO2GEoAg\", \"stars\": 2, \"date\": \"2010-03-22\", \"text\": \"Unfortunately, the frustration of being Dr. Goldberg's patient is a repeat of the experience I've had with so many other doctors in NYC -- good doctor, terrible staff.  It seems that his staff simply never answers the phone.  It usually takes 2 hours of repeated calling to get an answer.  Who has time for that or wants to deal with it?  I have run into this problem with many other doctors and I just don't get it.  You have office workers, you have patients with medical needs, why isn't anyone answering the phone?  It's incomprehensible and not work the aggravation.  It's with regret that I feel that I have to give Dr. Goldberg 2 stars.\", \"type\": \"review\", \"business_id\": \"vcNAWiLM4dR7D2nwwJ7nCA\"}\n",
      "\n",
      "{\"votes\": {\"funny\": 0, \"useful\": 1, \"cool\": 1}, \"user_id\": \"zvJCcrpm2yOZrxKffwGQLA\", \"review_id\": \"-TsVN230RCkLYKBeLsuz7A\", \"stars\": 4, \"date\": \"2012-02-14\", \"text\": \"Dr. Goldberg has been my doctor for years and I like him.  I've found his office to be fairly efficient.  Today I actually got to see the doctor a few minutes early!  \\n\\nHe seems very engaged with his patients and his demeanor is friendly, yet authoritative.    \\n\\nI'm glad to have Dr. Goldberg as my doctor.\", \"type\": \"review\", \"business_id\": \"vcNAWiLM4dR7D2nwwJ7nCA\"}\n",
      "\n",
      "{\"votes\": {\"funny\": 0, \"useful\": 0, \"cool\": 0}, \"user_id\": \"KBLW4wJA_fwoWmMhiHRVOA\", \"review_id\": \"dNocEAyUucjT371NNND41Q\", \"stars\": 4, \"date\": \"2012-03-02\", \"text\": \"Been going to Dr. Goldberg for over 10 years. I think I was one of his 1st patients when he started at MHMG. He's been great over the years and is really all about the big picture. It is because of him, not my now former gyn Dr. Markoff, that I found out I have fibroids. He explores all options with you and is very patient and understanding. He doesn't judge and asks all the right questions. Very thorough and wants to be kept in the loop on every aspect of your medical health and your life.\", \"type\": \"review\", \"business_id\": \"vcNAWiLM4dR7D2nwwJ7nCA\"}\n",
      "\n"
     ]
    }
   ],
   "source": [
    "import json\n",
    "import codecs\n",
    "\n",
    "reviews = []\n",
    "i = 0 \n",
    "with codecs.open(\"yelp_academic_dataset_review.json\",\"r\",\"utf-8\") as infile:\n",
    "    for line in infile:\n",
    "        i = i + 1\n",
    "        if( i < 5 ):\n",
    "            print(line)\n",
    "        j_content = json.loads(line)\n",
    "        reviews.append(j_content['text'])\n",
    "        \n"
   ]
  },
  {
   "cell_type": "code",
   "execution_count": 2,
   "metadata": {
    "collapsed": false
   },
   "outputs": [
    {
     "data": {
      "text/plain": [
       "1125458"
      ]
     },
     "execution_count": 2,
     "metadata": {},
     "output_type": "execute_result"
    }
   ],
   "source": [
    "len(reviews)"
   ]
  },
  {
   "cell_type": "code",
   "execution_count": null,
   "metadata": {
    "collapsed": false
   },
   "outputs": [
    {
     "name": "stdout",
     "output_type": "stream",
     "text": [
      "(1125458, 51474)\n",
      "(1125458, 51474)\n"
     ]
    },
    {
     "name": "stderr",
     "output_type": "stream",
     "text": [
      "C:\\Program Files\\Anaconda3\\lib\\site-packages\\sklearn\\decomposition\\online_lda.py:508: DeprecationWarning: The default value for 'learning_method' will be changed from 'online' to 'batch' in the release 0.20. This warning was introduced in 0.18.\n",
      "  DeprecationWarning)\n"
     ]
    }
   ],
   "source": [
    "import pyLDAvis\n",
    "import pyLDAvis.sklearn\n",
    "from sklearn.feature_extraction.text import CountVectorizer, TfidfVectorizer\n",
    "from sklearn.decomposition import LatentDirichletAllocation\n",
    "\n",
    "\n",
    "pyLDAvis.enable_notebook()\n",
    "\n",
    "\n",
    "def lda(reviews):\n",
    "    tf_vectorizer = CountVectorizer(strip_accents = 'unicode',\n",
    "                                    stop_words = 'english',\n",
    "                                    lowercase = True,\n",
    "                                    token_pattern = r'\\b[a-zA-Z]{3,}\\b',\n",
    "                                    max_df = 0.5, \n",
    "                                    min_df = 10)\n",
    "    dtm_tf = tf_vectorizer.fit_transform(reviews)\n",
    "\n",
    "    tfidf_vectorizer = TfidfVectorizer(**tf_vectorizer.get_params())\n",
    "    dtm_tfidf = tfidf_vectorizer.fit_transform(reviews)\n",
    "    print(dtm_tfidf.shape)\n",
    "\n",
    "\n",
    "    print(dtm_tf.shape)\n",
    "\n",
    "    lda_tfidf = LatentDirichletAllocation(n_topics=20, random_state=0)\n",
    "    lda_tfidf.fit(dtm_tfidf)\n",
    "    return lda_tfidf, dtm_tf,tf_vectorizer\n",
    "\n",
    "lda_tfidf, dtm_tf, tf_vectorizer = lda(reviews)"
   ]
  },
  {
   "cell_type": "code",
   "execution_count": null,
   "metadata": {
    "collapsed": false
   },
   "outputs": [],
   "source": [
    "pyLDAvis.sklearn.prepare(lda_tfidf, dtm_tf, tf_vectorizer)"
   ]
  },
  {
   "cell_type": "code",
   "execution_count": null,
   "metadata": {
    "collapsed": true
   },
   "outputs": [],
   "source": [
    "positive_reviews = []\n",
    "negative_reviews = []\n",
    "with codecs.open(\"yelp_academic_dataset_review.json\",\"r\",\"utf-8\") as infile:\n",
    "    for line in infile:\n",
    "        j_content = json.loads(line)\n",
    "        if( j_content > 3 )\n",
    "            positive_reviews.append(j_content['text'])\n",
    "        else \n",
    "            negative_reviews.append(j_content['text'])\n",
    "        reviews.append(j_content['text'])\n",
    "        "
   ]
  },
  {
   "cell_type": "code",
   "execution_count": null,
   "metadata": {
    "collapsed": true
   },
   "outputs": [],
   "source": [
    "lda_tfidf, dtm_tf, tf_vectorizer = lda(positive_reviews)\n",
    "pyLDAvis.sklearn.prepare(lda_tfidf, dtm_tf, tf_vectorizer)\n"
   ]
  },
  {
   "cell_type": "code",
   "execution_count": null,
   "metadata": {
    "collapsed": true
   },
   "outputs": [],
   "source": [
    "lda_tfidf, dtm_tf, tf_vectorizer = lda(negative_reviews)\n",
    "pyLDAvis.sklearn.prepare(lda_tfidf, dtm_tf, tf_vectorizer)"
   ]
  }
 ],
 "metadata": {
  "kernelspec": {
   "display_name": "Python 3",
   "language": "python",
   "name": "python3"
  },
  "language_info": {
   "codemirror_mode": {
    "name": "ipython",
    "version": 3
   },
   "file_extension": ".py",
   "mimetype": "text/x-python",
   "name": "python",
   "nbconvert_exporter": "python",
   "pygments_lexer": "ipython3",
   "version": "3.6.0"
  }
 },
 "nbformat": 4,
 "nbformat_minor": 2
}
